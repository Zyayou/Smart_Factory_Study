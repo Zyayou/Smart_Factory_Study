{
 "cells": [
  {
   "cell_type": "markdown",
   "id": "e6445b51",
   "metadata": {},
   "source": [
    "# 평균 연령이 가장 높은 행정 구역 찾기\n",
    "    + 주민등록 인구 기타 현황 - 지역별 평균 연령"
   ]
  },
  {
   "cell_type": "code",
   "execution_count": 11,
   "id": "65262ec3",
   "metadata": {},
   "outputs": [
    {
     "name": "stdout",
     "output_type": "stream",
     "text": [
      "                       행정구역  2023년09월_남자 평균연령  2023년09월_여자 평균연령  2023년09월_평균연령\n",
      "0       부산광역시  (2600000000)              45.2              47.7           46.5\n",
      "1     부산광역시 중구 (2611000000)              49.8              52.5           51.2\n",
      "2     부산광역시 서구 (2614000000)              48.0              50.7           49.4\n",
      "3     부산광역시 동구 (2617000000)              48.3              51.4           49.9\n",
      "4    부산광역시 영도구 (2620000000)              49.7              53.3           51.5\n",
      "5   부산광역시 부산진구 (2623000000)              45.1              47.2           46.2\n",
      "6    부산광역시 동래구 (2626000000)              44.1              46.6           45.4\n",
      "7     부산광역시 남구 (2629000000)              45.0              47.8           46.4\n",
      "8     부산광역시 북구 (2632000000)              45.3              47.9           46.6\n",
      "9   부산광역시 해운대구 (2635000000)              44.5              47.2           45.9\n",
      "10   부산광역시 사하구 (2638000000)              45.8              48.5           47.1\n",
      "11   부산광역시 금정구 (2641000000)              46.3              49.4           47.9\n",
      "12   부산광역시 강서구 (2644000000)              39.5              40.5           40.0\n",
      "13   부산광역시 연제구 (2647000000)              45.3              47.5           46.4\n",
      "14   부산광역시 수영구 (2650000000)              45.8              48.3           47.1\n",
      "15   부산광역시 사상구 (2653000000)              46.3              48.6           47.5\n",
      "16   부산광역시 기장군 (2671000000)              42.0              44.4           43.2\n"
     ]
    }
   ],
   "source": [
    "# 데이터 가져오기\n",
    "import pandas as pd\n",
    "result = pd.read_csv('202309_202309_주민등록인구기타현황(평균연령)_avgAge.csv', encoding='cp949')\n",
    "print(result)"
   ]
  },
  {
   "cell_type": "code",
   "execution_count": 12,
   "id": "a98629bb",
   "metadata": {},
   "outputs": [
    {
     "name": "stdout",
     "output_type": "stream",
     "text": [
      "51.5\n"
     ]
    }
   ],
   "source": [
    "# 특정 컬럼에서 가장 높은 연령 구하기\n",
    "print(result['2023년09월_평균연령'].max())"
   ]
  },
  {
   "cell_type": "code",
   "execution_count": 13,
   "id": "a82bd8aa",
   "metadata": {},
   "outputs": [
    {
     "name": "stdout",
     "output_type": "stream",
     "text": [
      "4\n"
     ]
    }
   ],
   "source": [
    "# 가장 높은 값을 가지고 있는 행의 정보 추출\n",
    "print(result['2023년09월_평균연령'].idxmax()) # 가장 높은 값의 index"
   ]
  },
  {
   "cell_type": "code",
   "execution_count": 14,
   "id": "80380119",
   "metadata": {},
   "outputs": [
    {
     "name": "stdout",
     "output_type": "stream",
     "text": [
      "행정구역                부산광역시 영도구 (2620000000)\n",
      "2023년09월_남자 평균연령                      49.7\n",
      "2023년09월_여자 평균연령                      53.3\n",
      "2023년09월_평균연령                         51.5\n",
      "Name: 4, dtype: object\n"
     ]
    }
   ],
   "source": [
    "# 가장 높은 값을 자고 있는 행의 정보 index를 이용하여 행을 출력\n",
    "print(result.iloc[result['2023년09월_평균연령'].idxmax()])"
   ]
  },
  {
   "cell_type": "code",
   "execution_count": 16,
   "id": "75b4c171",
   "metadata": {},
   "outputs": [
    {
     "name": "stdout",
     "output_type": "stream",
     "text": [
      "0     2.5\n",
      "1     2.7\n",
      "2     2.7\n",
      "3     3.1\n",
      "4     3.6\n",
      "5     2.1\n",
      "6     2.5\n",
      "7     2.8\n",
      "8     2.6\n",
      "9     2.7\n",
      "10    2.7\n",
      "11    3.1\n",
      "12    1.0\n",
      "13    2.2\n",
      "14    2.5\n",
      "15    2.3\n",
      "16    2.4\n",
      "dtype: float64\n"
     ]
    }
   ],
   "source": [
    "# 남 / 여 연령차이가 가장 큰 행정구역 찾기\n",
    "data = result['2023년09월_여자 평균연령'] - result['2023년09월_남자 평균연령']\n",
    "print(data)"
   ]
  },
  {
   "cell_type": "code",
   "execution_count": 17,
   "id": "e532fb8a",
   "metadata": {},
   "outputs": [
    {
     "name": "stdout",
     "output_type": "stream",
     "text": [
      "4\n"
     ]
    }
   ],
   "source": [
    "# 가장 차이가 많이나는 index\n",
    "print(data.idxmax())"
   ]
  },
  {
   "cell_type": "code",
   "execution_count": 18,
   "id": "f097dc4a",
   "metadata": {},
   "outputs": [
    {
     "name": "stdout",
     "output_type": "stream",
     "text": [
      "행정구역                부산광역시 영도구 (2620000000)\n",
      "2023년09월_남자 평균연령                      49.7\n",
      "2023년09월_여자 평균연령                      53.3\n",
      "2023년09월_평균연령                         51.5\n",
      "Name: 4, dtype: object\n"
     ]
    }
   ],
   "source": [
    "# 해당 인덱스의 모든 정보 확인하기\n",
    "print(result.iloc[data.idxmax()])"
   ]
  },
  {
   "cell_type": "code",
   "execution_count": null,
   "id": "bc9fb806",
   "metadata": {},
   "outputs": [],
   "source": []
  }
 ],
 "metadata": {
  "kernelspec": {
   "display_name": "Python 3 (ipykernel)",
   "language": "python",
   "name": "python3"
  },
  "language_info": {
   "codemirror_mode": {
    "name": "ipython",
    "version": 3
   },
   "file_extension": ".py",
   "mimetype": "text/x-python",
   "name": "python",
   "nbconvert_exporter": "python",
   "pygments_lexer": "ipython3",
   "version": "3.11.5"
  }
 },
 "nbformat": 4,
 "nbformat_minor": 5
}
