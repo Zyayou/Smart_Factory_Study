{
 "cells": [
  {
   "cell_type": "markdown",
   "id": "3f1142b7-769f-471a-a1e8-5dc7673eda69",
   "metadata": {},
   "source": [
    "# Numpy\n",
    "    + 대규모 다차원 배열을 쉽게 처리할 수 있도록 도와주는 외부 모듈\n",
    "    + array 라는 자료형을 사용"
   ]
  },
  {
   "cell_type": "code",
   "execution_count": 1,
   "id": "2e8e083d-dabb-4740-afd5-bc4dbd9abee8",
   "metadata": {},
   "outputs": [
    {
     "name": "stdout",
     "output_type": "stream",
     "text": [
      "[1 2 3 4 5]\n"
     ]
    }
   ],
   "source": [
    "# numpy의 선언과 예제\n",
    "import numpy as np\n",
    "\n",
    "a = [1,2,3,4,5]\n",
    "# numpy 를 통해 배열 \n",
    "b = np.array(a)\n",
    "print(b)"
   ]
  },
  {
   "cell_type": "markdown",
   "id": "e68d7f55-bd23-424a-b2f8-fab7aa6b44b6",
   "metadata": {},
   "source": [
    "* 행렬 연산을 지원"
   ]
  },
  {
   "cell_type": "code",
   "execution_count": 2,
   "id": "d1c44926-5b15-4cc0-8bd2-00899778711a",
   "metadata": {},
   "outputs": [
    {
     "name": "stdout",
     "output_type": "stream",
     "text": [
      "[1, 2, 3, 4, 5, 1, 2, 3, 4, 5]\n",
      "[ 2  4  6  8 10]\n",
      "[ 3  6  9 12 15]\n"
     ]
    }
   ],
   "source": [
    "# 덧셈\n",
    "import numpy as np\n",
    "\n",
    "a = [1,2,3,4,5]\n",
    "# numpy 를 통해 배열 \n",
    "b = np.array(a)\n",
    "\n",
    "print(a+a)\n",
    "print(b+b)\n",
    "print(b*3)"
   ]
  },
  {
   "cell_type": "markdown",
   "id": "9467aacb-8895-4273-85dd-caa0bc812553",
   "metadata": {},
   "source": [
    "* 다차원 행렬 및 행렬 연산 지원(2차원 배열)"
   ]
  },
  {
   "cell_type": "code",
   "execution_count": 4,
   "id": "487c6789-d75c-4e70-a40b-172af0f9d976",
   "metadata": {},
   "outputs": [
    {
     "name": "stdout",
     "output_type": "stream",
     "text": [
      "[[1, 1, 1], [2, 2, 2], [3, 3, 3]]\n",
      "[[1 1 1]\n",
      " [2 2 2]\n",
      " [3 3 3]]\n",
      "(3, 3)\n",
      "[[3 3 3]\n",
      " [6 6 6]\n",
      " [9 9 9]]\n"
     ]
    }
   ],
   "source": [
    "a = [[1,1,1], [2,2,2],[3,3,3]]\n",
    "b = np.array(a)\n",
    "\n",
    "print(a)\n",
    "print(b)\n",
    "print(b.shape)\n",
    "print(b*3)"
   ]
  },
  {
   "cell_type": "markdown",
   "id": "b8422b0d",
   "metadata": {},
   "source": [
    "* 리스트보다 다양한 방식의 인덱싱을 지원\n",
    "    + 리스트 : 요소를 기준으로 인덱싱\n",
    "    + numpy의 행렬 : 위치를(범위) 기준으로 인덱싱\n",
    "        - \\[ : ,2\\] : 2index 열에 있는 모든 값\n",
    "        - \\[1, :2\\] : 1index 행에 있는 2열 까지의 값"
   ]
  },
  {
   "cell_type": "code",
   "execution_count": 8,
   "id": "d102c1ff",
   "metadata": {},
   "outputs": [
    {
     "name": "stdout",
     "output_type": "stream",
     "text": [
      "[[1 1 1]\n",
      " [2 2 2]\n",
      " [3 3 3]] \n",
      "\n",
      "[1 2 3] \n",
      "\n",
      "[2 2]\n"
     ]
    }
   ],
   "source": [
    "print(b, '\\n')\n",
    "print(b[:,2], '\\n')\n",
    "print(b[1,:2])"
   ]
  },
  {
   "cell_type": "markdown",
   "id": "82d10477",
   "metadata": {},
   "source": [
    "# pandas\n",
    " + 행과 열로 이루어진 테이터를 쉽게 다룰수 있돌고 외부모듈, 대용량의 데이터를 처리하는데 요이하다.\n",
    "    "
   ]
  },
  {
   "cell_type": "markdown",
   "id": "5f37c1bb",
   "metadata": {},
   "source": [
    "* Seris자료형\n",
    "    + 별도의 인덱스 , 별도의. 값을 출력하게 설정할 수 있다. (사용자 임의로 index를 지정할 수 있다.)\n",
    "* DataFirame 자료형\n",
    "    + 행, 열 로 데이터를 전처리 하여 손쉽게 분석할 수 있도록 하는 기능이 있는 자료형"
   ]
  },
  {
   "cell_type": "code",
   "execution_count": 13,
   "id": "f47d47f5",
   "metadata": {},
   "outputs": [
    {
     "name": "stdout",
     "output_type": "stream",
     "text": [
      "0    1\n",
      "1    2\n",
      "2    3\n",
      "3    4\n",
      "dtype: int64\n"
     ]
    }
   ],
   "source": [
    "import pandas as pd\n",
    "a = pd.Series([1,2,3,4])\n",
    "print(a)"
   ]
  },
  {
   "cell_type": "code",
   "execution_count": 17,
   "id": "805e3095",
   "metadata": {},
   "outputs": [
    {
     "name": "stdout",
     "output_type": "stream",
     "text": [
      "a    1\n",
      "b    2\n",
      "c    3\n",
      "d    4\n",
      "dtype: int64\n",
      "Index(['a', 'b', 'c', 'd'], dtype='object')\n"
     ]
    }
   ],
   "source": [
    "a = pd.Series([1,2,3,4], index = ['a','b','c','d'])\n",
    "print(a)\n",
    "print(a.index)"
   ]
  },
  {
   "cell_type": "markdown",
   "id": "e79841fe",
   "metadata": {},
   "source": [
    " * 파이썬 사전을 Serise로 변환"
   ]
  },
  {
   "cell_type": "code",
   "execution_count": 20,
   "id": "b6c53f9f",
   "metadata": {},
   "outputs": [
    {
     "name": "stdout",
     "output_type": "stream",
     "text": [
      "a    1\n",
      "b    2\n",
      "c    3\n",
      "dtype: int64\n"
     ]
    }
   ],
   "source": [
    "import pandas as pd\n",
    "\n",
    "dic = {'a' : 1, 'b' : 2, 'c' : 3}\n",
    "a = pd.Series(dic)\n",
    "print(a)"
   ]
  },
  {
   "cell_type": "markdown",
   "id": "84d3a524",
   "metadata": {},
   "source": [
    "* Numpy의 array 자료형도 변형가능"
   ]
  },
  {
   "cell_type": "code",
   "execution_count": 21,
   "id": "7804e7cc",
   "metadata": {},
   "outputs": [
    {
     "name": "stdout",
     "output_type": "stream",
     "text": [
      "0    1\n",
      "1    2\n",
      "2    3\n",
      "3    4\n",
      "dtype: int32\n"
     ]
    }
   ],
   "source": [
    "import pandas as pd\n",
    "import numpy as np\n",
    "\n",
    "a = np.array([1,2,3,4])\n",
    "b = pd.Series(a)\n",
    "print(b)"
   ]
  },
  {
   "cell_type": "markdown",
   "id": "c5952c00",
   "metadata": {},
   "source": [
    "* DataFrame\n",
    "    + 행과 열로 이루어진 자료형\n",
    "    "
   ]
  },
  {
   "cell_type": "code",
   "execution_count": 26,
   "id": "308382fc",
   "metadata": {},
   "outputs": [
    {
     "name": "stdout",
     "output_type": "stream",
     "text": [
      "a    [1, 1, 1]\n",
      "b    [2, 2, 2]\n",
      "c    [3, 3, 3]\n",
      "dtype: object\n",
      "\n",
      "   a  b  c\n",
      "0  1  2  3\n",
      "1  1  2  3\n",
      "2  1  2  3\n"
     ]
    }
   ],
   "source": [
    "import pandas as pd\n",
    "a = pd.Series({'a' :[1,1,1], 'b' : [2,2,2], 'c' : [3,3,3]})\n",
    "print(a)\n",
    "\n",
    "print()\n",
    "\n",
    "b = pd.DataFrame({'a' :[1,1,1], 'b' : [2,2,2], 'c' : [3,3,3]})\n",
    "print(b)"
   ]
  },
  {
   "cell_type": "code",
   "execution_count": 27,
   "id": "62532d68",
   "metadata": {},
   "outputs": [
    {
     "name": "stdout",
     "output_type": "stream",
     "text": [
      "   a  b  c\n",
      "0  1  5  3\n",
      "1  1  6  3\n",
      "2  1  7  3\n"
     ]
    }
   ],
   "source": [
    "# 특정 컬럼의 값을 일괄 변경\n",
    "\n",
    "b = pd.DataFrame({'a' :[1,1,1], 'b' : [2,2,2], 'c' : [3,3,3]})\n",
    "\n",
    "b['b'] = [5,6,7]\n",
    "print(b)"
   ]
  },
  {
   "cell_type": "code",
   "execution_count": 32,
   "id": "1f5cc229",
   "metadata": {},
   "outputs": [
    {
     "name": "stdout",
     "output_type": "stream",
     "text": [
      "   xx  yy  zz\n",
      "A   1   5   3\n",
      "B   1   6   3\n",
      "C   1   7   3\n"
     ]
    }
   ],
   "source": [
    "# index를 지정 (명칭 변경)\n",
    "\n",
    "b = pd.DataFrame({'a' :[1,1,1], 'b' : [5,6,7], 'c' : [3,3,3]})\n",
    "\n",
    "b.index =['A', 'B', 'C']\n",
    "b.columns = ['xx','yy','zz']\n",
    "print(b)"
   ]
  },
  {
   "cell_type": "code",
   "execution_count": 33,
   "id": "68d7c313",
   "metadata": {},
   "outputs": [
    {
     "name": "stdout",
     "output_type": "stream",
     "text": [
      "A    3\n",
      "B    3\n",
      "C    3\n",
      "Name: zz, dtype: int64\n"
     ]
    }
   ],
   "source": [
    "# 컬럼의 키로 데이터 표현하기\n",
    "print(b['zz'])"
   ]
  },
  {
   "cell_type": "code",
   "execution_count": 36,
   "id": "faa7dec1",
   "metadata": {},
   "outputs": [
    {
     "name": "stdout",
     "output_type": "stream",
     "text": [
      "xx    1\n",
      "yy    5\n",
      "zz    3\n",
      "Name: A, dtype: int64\n",
      "\n",
      "xx    1\n",
      "yy    5\n",
      "zz    3\n",
      "Name: A, dtype: int64\n"
     ]
    }
   ],
   "source": [
    "# index 행의 데이터 표현하기\n",
    "print(b.iloc[0])\n",
    "\n",
    "print()\n",
    "\n",
    "print(b.loc['A'])"
   ]
  },
  {
   "cell_type": "code",
   "execution_count": 37,
   "id": "60f2d39e",
   "metadata": {},
   "outputs": [
    {
     "name": "stdout",
     "output_type": "stream",
     "text": [
      "        xx   yy   zz\n",
      "count  3.0  3.0  3.0\n",
      "mean   1.0  6.0  3.0\n",
      "std    0.0  1.0  0.0\n",
      "min    1.0  5.0  3.0\n",
      "25%    1.0  5.5  3.0\n",
      "50%    1.0  6.0  3.0\n",
      "75%    1.0  6.5  3.0\n",
      "max    1.0  7.0  3.0\n"
     ]
    }
   ],
   "source": [
    "print(b.describe())"
   ]
  },
  {
   "cell_type": "code",
   "execution_count": 40,
   "id": "fa6c7972",
   "metadata": {},
   "outputs": [
    {
     "name": "stdout",
     "output_type": "stream",
     "text": [
      "xx     3\n",
      "yy    18\n",
      "zz     9\n",
      "dtype: int64\n",
      "A     9\n",
      "B    10\n",
      "C    11\n",
      "dtype: int64\n"
     ]
    }
   ],
   "source": [
    "print(b.sum()) # 컬럼의 모든 값을 더함\n",
    "print(b.sum(axis=1)) # 행의 모든 값을 더함"
   ]
  },
  {
   "cell_type": "code",
   "execution_count": 41,
   "id": "f0463586",
   "metadata": {},
   "outputs": [
    {
     "name": "stdout",
     "output_type": "stream",
     "text": [
      "[1 5 3]\n",
      "[1]\n"
     ]
    }
   ],
   "source": [
    "# unique()\n",
    "# set 과 마찬가지로 중복을 제거하고 표현\n",
    "print(b.iloc[0].unique())\n",
    "print(b['xx'].unique())"
   ]
  },
  {
   "cell_type": "code",
   "execution_count": null,
   "id": "13f1ab09",
   "metadata": {},
   "outputs": [],
   "source": []
  }
 ],
 "metadata": {
  "kernelspec": {
   "display_name": "Python 3 (ipykernel)",
   "language": "python",
   "name": "python3"
  },
  "language_info": {
   "codemirror_mode": {
    "name": "ipython",
    "version": 3
   },
   "file_extension": ".py",
   "mimetype": "text/x-python",
   "name": "python",
   "nbconvert_exporter": "python",
   "pygments_lexer": "ipython3",
   "version": "3.11.5"
  }
 },
 "nbformat": 4,
 "nbformat_minor": 5
}
