{
 "cells": [
  {
   "cell_type": "markdown",
   "id": "a2e37a78-bc46-4b8f-8b07-bae49da7345f",
   "metadata": {},
   "source": [
    "# Txt 파일 데이터의 입 / 출력 하기   \n",
    " * open() 함수를 활용하여 txt 파일 형식의 데이터를 읽어와 분석하기"
   ]
  },
  {
   "cell_type": "code",
   "execution_count": 5,
   "id": "b4f536af-1d28-4e41-bb2b-cfca5a785d14",
   "metadata": {},
   "outputs": [
    {
     "name": "stdout",
     "output_type": "stream",
     "text": [
      "<class 'str'>\n",
      "안녕하세오 쥬피터\n"
     ]
    }
   ],
   "source": [
    "# 파일 스트리 f : 하드디스크의 물리적 공간으로 접근하여 데이터를 관리 할 수 있도록 만드는 연결고리\n",
    "f = open('hello.txt', 'r') # r : 읽기 모드\n",
    "data = f.read()\n",
    "print(type(data))\n",
    "print(data)"
   ]
  },
  {
   "cell_type": "code",
   "execution_count": 20,
   "id": "0d113ddb-8e95-4930-b10e-71ef367bf65e",
   "metadata": {},
   "outputs": [],
   "source": [
    "# w 모드로 쓰기 \n",
    "f = open('hello.txt', 'w')\n",
    "f.write(\"안녕하세오 쥬피터\")\n",
    "f.close()"
   ]
  },
  {
   "cell_type": "markdown",
   "id": "5bf19fa5-13d1-4fd8-930f-6b9edcaa6748",
   "metadata": {},
   "source": [
    "# CSV 파일 데이터의 입/ 출력 하기\n",
    " * csv 파일 불러오기   \n",
    "    . csv : 데이터와 데이터 사이에 ' , ' (콤마) 로 분리하여 저장해둔 파일 형태   \n",
    "    . 간단한 데이터 등록시 CSV를 이용하여 데이터를 입/출력 할 수 있다."
   ]
  },
  {
   "cell_type": "code",
   "execution_count": 7,
   "id": "f324bcab-c818-4d2e-8467-3a0b31cfdd55",
   "metadata": {},
   "outputs": [
    {
     "name": "stdout",
     "output_type": "stream",
     "text": [
      "﻿name,phone,age,number\n",
      "김범수,111-1111,38,10\n",
      "나얼,222-2222,37,20\n",
      "박효신,333-3333,36,30\n",
      "이수,444-4444,41,40\n",
      "\n"
     ]
    }
   ],
   "source": [
    "f = open('data.csv', 'r', encoding='utf-8')\n",
    "data = f.read()\n",
    "f.close()\n",
    "print(data)\n",
    "# csv 파일을 통 문자열로 받아오기 때문에 원하는 데이터를 받아오기 어렵다."
   ]
  },
  {
   "cell_type": "code",
   "execution_count": 8,
   "id": "92f0ac63-c6bc-43d6-8ae9-3b00d07c1052",
   "metadata": {},
   "outputs": [],
   "source": [
    "# CSV 데이터를 읽어오는데 문제는 없지만 , 를 구분하여 데이터 추출은 힘들다.\n"
   ]
  },
  {
   "cell_type": "markdown",
   "id": "3ec37c29-7a75-4111-b182-adeffdbaec72",
   "metadata": {},
   "source": [
    "# CSV 모듈을 이용하여 데이터 가져오기   \n",
    "    . CSV.reader(f) 기능을 이용, 전처리 된 데이터를 받아올 수 있다.   \n",
    "    . 전처리 : 데이터를 분석하기 전에 미리 가공하는 과정"
   ]
  },
  {
   "cell_type": "code",
   "execution_count": 14,
   "id": "31cbe961-d641-4fca-ba58-36cc3ce3426d",
   "metadata": {},
   "outputs": [
    {
     "name": "stdout",
     "output_type": "stream",
     "text": [
      "<class '_csv.reader'>\n",
      "['name', 'phone', 'age', 'number']\n",
      "['김범수', '111-1111', '38', '10']\n",
      "['나얼', '222-2222', '37', '20']\n",
      "['박효신', '333-3333', '36', '30']\n",
      "['이수', '444-4444', '41', '40']\n"
     ]
    }
   ],
   "source": [
    "import csv #cav 모듈 import\n",
    "f = open('data.csv', 'r', encoding='utf-8-sig') # -sig : csv 첫 데이터의 개행 확장렬을 삭제\n",
    "data = csv.reader(f)\n",
    "print(type(data))\n",
    "\n",
    "for i in data :\n",
    "    print(i)\n",
    "\n",
    "# 각 행을 리스트 형식으로 데이터를 요소 별로 전달 하여 전처리 된 데이터를 활용할 수 있다."
   ]
  },
  {
   "cell_type": "markdown",
   "id": "9738e62b-5eb6-4dcb-800f-40c5273f3572",
   "metadata": {},
   "source": [
    "# JSON 형식의 데이터   \n",
    "    . 파이썬의 JSON 모듈을 활용하여 JCON형식의 데이터를 표현할 수 있다."
   ]
  },
  {
   "cell_type": "code",
   "execution_count": 16,
   "id": "02a7f462-ad86-4318-9ce6-a12504d2dfec",
   "metadata": {},
   "outputs": [],
   "source": [
    "import json\n",
    "\n",
    "# 예제 리스트\n",
    "lists = [1,2,3,{4 : '사', 5 : '오'}]\n"
   ]
  },
  {
   "cell_type": "code",
   "execution_count": 18,
   "id": "039ef216-7c2f-4d5e-b109-a39dca3c61aa",
   "metadata": {},
   "outputs": [
    {
     "name": "stdout",
     "output_type": "stream",
     "text": [
      "<class 'str'>\n",
      "[1, 2, 3, {\"4\": \"\\uc0ac\", \"5\": \"\\uc624\"}]\n"
     ]
    }
   ],
   "source": [
    "b = json.dumps(lists) # 파이썬 데이터를 JSON으로 변경\n",
    "print(type(b))\n",
    "print(b)"
   ]
  },
  {
   "cell_type": "code",
   "execution_count": 19,
   "id": "b0e9de32-dd17-4f8f-97eb-b7157ccc1473",
   "metadata": {},
   "outputs": [
    {
     "name": "stdout",
     "output_type": "stream",
     "text": [
      "<class 'list'>\n",
      "[1, 2, 3, {'4': '사', '5': '오'}]\n"
     ]
    }
   ],
   "source": [
    "# loads : JSon을 파이썬으로 변경\n",
    "c = json.loads(b)\n",
    "print(type(c))\n",
    "print(c)"
   ]
  }
 ],
 "metadata": {
  "kernelspec": {
   "display_name": "Python 3 (ipykernel)",
   "language": "python",
   "name": "python3"
  },
  "language_info": {
   "codemirror_mode": {
    "name": "ipython",
    "version": 3
   },
   "file_extension": ".py",
   "mimetype": "text/x-python",
   "name": "python",
   "nbconvert_exporter": "python",
   "pygments_lexer": "ipython3",
   "version": "3.11.5"
  }
 },
 "nbformat": 4,
 "nbformat_minor": 5
}
